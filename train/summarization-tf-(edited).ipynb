{
 "cells": [
  {
   "cell_type": "markdown",
   "metadata": {
    "id": "X4cRE8IbIrIV"
   },
   "source": [
    "If you're opening this Notebook on colab, you will probably need to install 🤗 Transformers and 🤗 Datasets as well as other dependencies. Uncomment the following cell and run it. Note the `rouge-score` and `nltk` dependencies - even if you've used 🤗 Transformers before, you may not have these installed!"
   ]
  },
  {
   "cell_type": "code",
   "execution_count": 1,
   "metadata": {
    "colab": {
     "base_uri": "https://localhost:8080/",
     "height": 1000
    },
    "id": "MOsHUjgdIrIW",
    "outputId": "f84a093e-147f-470e-aad9-80fb51193c8e"
   },
   "outputs": [
    {
     "name": "stdout",
     "output_type": "stream",
     "text": [
      "Requirement already satisfied: transformers in c:\\users\\assam\\appdata\\local\\programs\\python\\python310\\lib\\site-packages (4.18.0)\n",
      "Requirement already satisfied: datasets in c:\\users\\assam\\appdata\\local\\programs\\python\\python310\\lib\\site-packages (2.1.0)\n",
      "Requirement already satisfied: filelock in c:\\users\\assam\\appdata\\local\\programs\\python\\python310\\lib\\site-packages (from transformers) (3.6.0)\n",
      "Requirement already satisfied: packaging>=20.0 in c:\\users\\assam\\appdata\\local\\programs\\python\\python310\\lib\\site-packages (from transformers) (21.3)\n",
      "Requirement already satisfied: requests in c:\\users\\assam\\appdata\\local\\programs\\python\\python310\\lib\\site-packages (from transformers) (2.27.1)\n",
      "Requirement already satisfied: tqdm>=4.27 in c:\\users\\assam\\appdata\\local\\programs\\python\\python310\\lib\\site-packages (from transformers) (4.64.0)\n",
      "Requirement already satisfied: pyyaml>=5.1 in c:\\users\\assam\\appdata\\local\\programs\\python\\python310\\lib\\site-packages (from transformers) (6.0)\n",
      "Requirement already satisfied: sacremoses in c:\\users\\assam\\appdata\\local\\programs\\python\\python310\\lib\\site-packages (from transformers) (0.0.49)\n",
      "Requirement already satisfied: huggingface-hub<1.0,>=0.1.0 in c:\\users\\assam\\appdata\\local\\programs\\python\\python310\\lib\\site-packages (from transformers) (0.5.1)\n",
      "Requirement already satisfied: numpy>=1.17 in c:\\users\\assam\\appdata\\local\\programs\\python\\python310\\lib\\site-packages (from transformers) (1.22.3)\n",
      "Requirement already satisfied: regex!=2019.12.17 in c:\\users\\assam\\appdata\\local\\programs\\python\\python310\\lib\\site-packages (from transformers) (2022.4.24)\n",
      "Requirement already satisfied: tokenizers!=0.11.3,<0.13,>=0.11.1 in c:\\users\\assam\\appdata\\local\\programs\\python\\python310\\lib\\site-packages (from transformers) (0.12.1)\n",
      "Requirement already satisfied: dill in c:\\users\\assam\\appdata\\local\\programs\\python\\python310\\lib\\site-packages (from datasets) (0.3.4)\n",
      "Requirement already satisfied: fsspec[http]>=2021.05.0 in c:\\users\\assam\\appdata\\local\\programs\\python\\python310\\lib\\site-packages (from datasets) (2022.3.0)\n",
      "Requirement already satisfied: aiohttp in c:\\users\\assam\\appdata\\local\\programs\\python\\python310\\lib\\site-packages (from datasets) (3.8.1)\n",
      "Requirement already satisfied: pyarrow>=5.0.0 in c:\\users\\assam\\appdata\\local\\programs\\python\\python310\\lib\\site-packages (from datasets) (7.0.0)\n",
      "Requirement already satisfied: pandas in c:\\users\\assam\\appdata\\local\\programs\\python\\python310\\lib\\site-packages (from datasets) (1.4.2)\n",
      "Requirement already satisfied: responses<0.19 in c:\\users\\assam\\appdata\\local\\programs\\python\\python310\\lib\\site-packages (from datasets) (0.18.0)\n",
      "Requirement already satisfied: xxhash in c:\\users\\assam\\appdata\\local\\programs\\python\\python310\\lib\\site-packages (from datasets) (3.0.0)\n",
      "Requirement already satisfied: multiprocess in c:\\users\\assam\\appdata\\local\\programs\\python\\python310\\lib\\site-packages (from datasets) (0.70.12.2)\n",
      "Requirement already satisfied: typing-extensions>=3.7.4.3 in c:\\users\\assam\\appdata\\local\\programs\\python\\python310\\lib\\site-packages (from huggingface-hub<1.0,>=0.1.0->transformers) (4.2.0)\n",
      "Requirement already satisfied: pyparsing!=3.0.5,>=2.0.2 in c:\\users\\assam\\appdata\\local\\programs\\python\\python310\\lib\\site-packages (from packaging>=20.0->transformers) (3.0.8)\n",
      "Requirement already satisfied: urllib3<1.27,>=1.21.1 in c:\\users\\assam\\appdata\\local\\programs\\python\\python310\\lib\\site-packages (from requests->transformers) (1.26.9)\n",
      "Requirement already satisfied: charset-normalizer~=2.0.0 in c:\\users\\assam\\appdata\\local\\programs\\python\\python310\\lib\\site-packages (from requests->transformers) (2.0.12)\n",
      "Requirement already satisfied: idna<4,>=2.5 in c:\\users\\assam\\appdata\\local\\programs\\python\\python310\\lib\\site-packages (from requests->transformers) (3.3)\n",
      "Requirement already satisfied: certifi>=2017.4.17 in c:\\users\\assam\\appdata\\local\\programs\\python\\python310\\lib\\site-packages (from requests->transformers) (2021.10.8)\n",
      "Requirement already satisfied: colorama in c:\\users\\assam\\appdata\\local\\programs\\python\\python310\\lib\\site-packages (from tqdm>=4.27->transformers) (0.4.4)\n",
      "Requirement already satisfied: aiosignal>=1.1.2 in c:\\users\\assam\\appdata\\local\\programs\\python\\python310\\lib\\site-packages (from aiohttp->datasets) (1.2.0)\n",
      "Requirement already satisfied: yarl<2.0,>=1.0 in c:\\users\\assam\\appdata\\local\\programs\\python\\python310\\lib\\site-packages (from aiohttp->datasets) (1.7.2)\n",
      "Requirement already satisfied: attrs>=17.3.0 in c:\\users\\assam\\appdata\\local\\programs\\python\\python310\\lib\\site-packages (from aiohttp->datasets) (21.4.0)\n",
      "Requirement already satisfied: async-timeout<5.0,>=4.0.0a3 in c:\\users\\assam\\appdata\\local\\programs\\python\\python310\\lib\\site-packages (from aiohttp->datasets) (4.0.2)\n",
      "Requirement already satisfied: frozenlist>=1.1.1 in c:\\users\\assam\\appdata\\local\\programs\\python\\python310\\lib\\site-packages (from aiohttp->datasets) (1.3.0)\n",
      "Requirement already satisfied: multidict<7.0,>=4.5 in c:\\users\\assam\\appdata\\local\\programs\\python\\python310\\lib\\site-packages (from aiohttp->datasets) (6.0.2)\n",
      "Requirement already satisfied: python-dateutil>=2.8.1 in c:\\users\\assam\\appdata\\local\\programs\\python\\python310\\lib\\site-packages (from pandas->datasets) (2.8.2)\n",
      "Requirement already satisfied: pytz>=2020.1 in c:\\users\\assam\\appdata\\local\\programs\\python\\python310\\lib\\site-packages (from pandas->datasets) (2022.1)\n",
      "Requirement already satisfied: joblib in c:\\users\\assam\\appdata\\local\\programs\\python\\python310\\lib\\site-packages (from sacremoses->transformers) (1.1.0)\n",
      "Requirement already satisfied: six in c:\\users\\assam\\appdata\\local\\programs\\python\\python310\\lib\\site-packages (from sacremoses->transformers) (1.16.0)\n",
      "Requirement already satisfied: click in c:\\users\\assam\\appdata\\local\\programs\\python\\python310\\lib\\site-packages (from sacremoses->transformers) (8.1.3)\n",
      "Collecting rouge-score\n",
      "  Downloading rouge_score-0.0.4-py2.py3-none-any.whl (22 kB)\n",
      "Collecting nltk\n",
      "  Downloading nltk-3.7-py3-none-any.whl (1.5 MB)\n",
      "     ---------------------------------------- 1.5/1.5 MB 2.3 MB/s eta 0:00:00\n",
      "Requirement already satisfied: numpy in c:\\users\\assam\\appdata\\local\\programs\\python\\python310\\lib\\site-packages (from rouge-score) (1.22.3)\n",
      "Requirement already satisfied: absl-py in c:\\users\\assam\\appdata\\local\\programs\\python\\python310\\lib\\site-packages (from rouge-score) (1.0.0)\n",
      "Requirement already satisfied: six>=1.14.0 in c:\\users\\assam\\appdata\\local\\programs\\python\\python310\\lib\\site-packages (from rouge-score) (1.16.0)\n",
      "Requirement already satisfied: joblib in c:\\users\\assam\\appdata\\local\\programs\\python\\python310\\lib\\site-packages (from nltk) (1.1.0)\n",
      "Requirement already satisfied: regex>=2021.8.3 in c:\\users\\assam\\appdata\\local\\programs\\python\\python310\\lib\\site-packages (from nltk) (2022.4.24)\n",
      "Requirement already satisfied: tqdm in c:\\users\\assam\\appdata\\local\\programs\\python\\python310\\lib\\site-packages (from nltk) (4.64.0)\n",
      "Requirement already satisfied: click in c:\\users\\assam\\appdata\\local\\programs\\python\\python310\\lib\\site-packages (from nltk) (8.1.3)\n",
      "Requirement already satisfied: colorama in c:\\users\\assam\\appdata\\local\\programs\\python\\python310\\lib\\site-packages (from click->nltk) (0.4.4)\n",
      "Installing collected packages: nltk, rouge-score\n",
      "Successfully installed nltk-3.7 rouge-score-0.0.4\n",
      "Requirement already satisfied: huggingface_hub in c:\\users\\assam\\appdata\\local\\programs\\python\\python310\\lib\\site-packages (0.5.1)\n",
      "Requirement already satisfied: typing-extensions>=3.7.4.3 in c:\\users\\assam\\appdata\\local\\programs\\python\\python310\\lib\\site-packages (from huggingface_hub) (4.2.0)\n",
      "Requirement already satisfied: pyyaml in c:\\users\\assam\\appdata\\local\\programs\\python\\python310\\lib\\site-packages (from huggingface_hub) (6.0)\n",
      "Requirement already satisfied: packaging>=20.9 in c:\\users\\assam\\appdata\\local\\programs\\python\\python310\\lib\\site-packages (from huggingface_hub) (21.3)\n",
      "Requirement already satisfied: filelock in c:\\users\\assam\\appdata\\local\\programs\\python\\python310\\lib\\site-packages (from huggingface_hub) (3.6.0)\n",
      "Requirement already satisfied: tqdm in c:\\users\\assam\\appdata\\local\\programs\\python\\python310\\lib\\site-packages (from huggingface_hub) (4.64.0)\n",
      "Requirement already satisfied: requests in c:\\users\\assam\\appdata\\local\\programs\\python\\python310\\lib\\site-packages (from huggingface_hub) (2.27.1)\n",
      "Requirement already satisfied: pyparsing!=3.0.5,>=2.0.2 in c:\\users\\assam\\appdata\\local\\programs\\python\\python310\\lib\\site-packages (from packaging>=20.9->huggingface_hub) (3.0.8)\n",
      "Requirement already satisfied: charset-normalizer~=2.0.0 in c:\\users\\assam\\appdata\\local\\programs\\python\\python310\\lib\\site-packages (from requests->huggingface_hub) (2.0.12)\n",
      "Requirement already satisfied: urllib3<1.27,>=1.21.1 in c:\\users\\assam\\appdata\\local\\programs\\python\\python310\\lib\\site-packages (from requests->huggingface_hub) (1.26.9)\n",
      "Requirement already satisfied: certifi>=2017.4.17 in c:\\users\\assam\\appdata\\local\\programs\\python\\python310\\lib\\site-packages (from requests->huggingface_hub) (2021.10.8)\n",
      "Requirement already satisfied: idna<4,>=2.5 in c:\\users\\assam\\appdata\\local\\programs\\python\\python310\\lib\\site-packages (from requests->huggingface_hub) (3.3)\n",
      "Requirement already satisfied: colorama in c:\\users\\assam\\appdata\\local\\programs\\python\\python310\\lib\\site-packages (from tqdm->huggingface_hub) (0.4.4)\n"
     ]
    }
   ],
   "source": [
    "# ! pip install transformers datasets\n",
    "# ! pip install rouge-score nltk\n",
    "# ! pip install huggingface_hub"
   ]
  },
  {
   "cell_type": "markdown",
   "metadata": {},
   "source": [
    "If you're opening this notebook locally, make sure your environment has an install from the last version of those libraries.\n",
    "\n",
    "To be able to share your model with the community and generate results like the one shown in the picture below via the inference API, there are a few more steps to follow.\n",
    "\n",
    "First you have to store your authentication token from the Hugging Face website (sign up [here](https://huggingface.co/join) if you haven't already!) then run the following cell and input your token:"
   ]
  },
  {
   "cell_type": "code",
   "execution_count": 3,
   "metadata": {},
   "outputs": [
    {
     "name": "stdout",
     "output_type": "stream",
     "text": [
      "Login successful\n",
      "Your token has been saved to C:\\Users\\assam/.huggingface/token\n",
      "\u001b[1m\u001b[31mAuthenticated through git-credential store but this isn't the helper defined on your machine.\n",
      "You might have to re-authenticate when pushing to the Hugging Face Hub. Run the following command in your terminal in case you want to set this credential helper as the default\n",
      "\n",
      "git config --global credential.helper store\u001b[0m\n"
     ]
    }
   ],
   "source": [
    "from huggingface_hub import notebook_login\n",
    "\n",
    "notebook_login()"
   ]
  },
  {
   "cell_type": "markdown",
   "metadata": {},
   "source": [
    "Then you need to install Git-LFS and setup Git if you haven't already. Uncomment the following instructions and adapt with your name and email:"
   ]
  },
  {
   "cell_type": "code",
   "execution_count": 1,
   "metadata": {},
   "outputs": [
    {
     "name": "stderr",
     "output_type": "stream",
     "text": [
      "'apt' is not recognized as an internal or external command,\n",
      "operable program or batch file.\n"
     ]
    }
   ],
   "source": [
    "!apt install git-lfs\n",
    "!git config --global user.email \"example@example.com\"\n",
    "!git config --global user.name \"example\""
   ]
  },
  {
   "cell_type": "markdown",
   "metadata": {},
   "source": [
    "Make sure your version of Transformers is at least 4.16.0 since some of the functionality we use was introduced in that version:"
   ]
  },
  {
   "cell_type": "code",
   "execution_count": 5,
   "metadata": {},
   "outputs": [
    {
     "name": "stdout",
     "output_type": "stream",
     "text": [
      "4.18.0\n"
     ]
    }
   ],
   "source": [
    "import transformers\n",
    "\n",
    "print(transformers.__version__)"
   ]
  },
  {
   "cell_type": "markdown",
   "metadata": {
    "id": "HFASsisvIrIb"
   },
   "source": [
    "You can find a script version of this notebook to fine-tune your model in a distributed fashion using multiple GPUs or TPUs [here](https://github.com/huggingface/transformers/tree/master/examples/seq2seq)."
   ]
  },
  {
   "cell_type": "markdown",
   "metadata": {
    "id": "rEJBSTyZIrIb"
   },
   "source": [
    "# Fine-tuning a model on a summarization task"
   ]
  },
  {
   "cell_type": "markdown",
   "metadata": {
    "id": "kTCFado4IrIc"
   },
   "source": [
    "In this notebook, we will see how to fine-tune one of the [🤗 Transformers](https://github.com/huggingface/transformers) model for a summarization task. We will use the [XSum dataset](https://arxiv.org/pdf/1808.08745.pdf) (for extreme summarization) which contains BBC articles accompanied with single-sentence summaries.\n",
    "\n",
    "![Widget inference on a summarization task](images/summarization.png)\n",
    "\n",
    "We will see how to easily load the dataset for this task using 🤗 Datasets and how to fine-tune a model on it using Keras."
   ]
  },
  {
   "cell_type": "code",
   "execution_count": 2,
   "metadata": {},
   "outputs": [],
   "source": [
    "model_checkpoint = \"t5-small\""
   ]
  },
  {
   "cell_type": "markdown",
   "metadata": {
    "id": "4RRkXuteIrIh"
   },
   "source": [
    "This notebook is built to run  with any model checkpoint from the [Model Hub](https://huggingface.co/models) as long as that model has a sequence-to-sequence version in the Transformers library. Here we pick the [`t5-small`](https://huggingface.co/t5-small) checkpoint. "
   ]
  },
  {
   "cell_type": "markdown",
   "metadata": {
    "id": "whPRbBNbIrIl"
   },
   "source": [
    "## Loading the dataset"
   ]
  },
  {
   "cell_type": "markdown",
   "metadata": {
    "id": "W7QYTpxXIrIl"
   },
   "source": [
    "We will use the [🤗 Datasets](https://github.com/huggingface/datasets) library to download the data and get the metric we need to use for evaluation (to compare our model to the benchmark). This can be easily done with the functions `load_dataset` and `load_metric`.  "
   ]
  },
  {
   "cell_type": "code",
   "execution_count": 5,
   "metadata": {
    "id": "IreSlFmlIrIm"
   },
   "outputs": [
    {
     "name": "stderr",
     "output_type": "stream",
     "text": [
      "Reusing dataset xlsum (C:\\Users\\assam\\.cache\\huggingface\\datasets\\csebuetnlp___xlsum\\indonesian\\2.0.0\\518ab0af76048660bcc2240ca6e8692a977c80e384ffb18fdddebaca6daebdce)\n"
     ]
    },
    {
     "data": {
      "application/vnd.jupyter.widget-view+json": {
       "model_id": "2b1118ed2b8f40e88f05083d0a2aef65",
       "version_major": 2,
       "version_minor": 0
      },
      "text/plain": [
       "  0%|          | 0/3 [00:00<?, ?it/s]"
      ]
     },
     "metadata": {},
     "output_type": "display_data"
    }
   ],
   "source": [
    "from datasets import load_dataset, load_metric\n",
    "\n",
    "raw_datasets = load_dataset(\"csebuetnlp/xlsum\",'indonesian')\n",
    "metric = load_metric(\"rouge\")"
   ]
  },
  {
   "cell_type": "markdown",
   "metadata": {
    "id": "RzfPtOMoIrIu"
   },
   "source": [
    "The `dataset` object itself is [`DatasetDict`](https://huggingface.co/docs/datasets/package_reference/main_classes.html#datasetdict), which contains one key for the training, validation and test set:"
   ]
  },
  {
   "cell_type": "code",
   "execution_count": 6,
   "metadata": {
    "id": "GWiVUF0jIrIv",
    "outputId": "35e3ea43-f397-4a54-c90c-f2cf8d36873e"
   },
   "outputs": [
    {
     "data": {
      "text/plain": [
       "DatasetDict({\n",
       "    train: Dataset({\n",
       "        features: ['id', 'url', 'title', 'summary', 'text'],\n",
       "        num_rows: 38242\n",
       "    })\n",
       "    test: Dataset({\n",
       "        features: ['id', 'url', 'title', 'summary', 'text'],\n",
       "        num_rows: 4780\n",
       "    })\n",
       "    validation: Dataset({\n",
       "        features: ['id', 'url', 'title', 'summary', 'text'],\n",
       "        num_rows: 4780\n",
       "    })\n",
       "})"
      ]
     },
     "execution_count": 6,
     "metadata": {},
     "output_type": "execute_result"
    }
   ],
   "source": [
    "raw_datasets"
   ]
  },
  {
   "cell_type": "markdown",
   "metadata": {
    "id": "u3EtYfeHIrIz"
   },
   "source": [
    "To access an actual element, you need to select a split first, then give an index:"
   ]
  },
  {
   "cell_type": "code",
   "execution_count": 9,
   "metadata": {
    "id": "X6HrpprwIrIz",
    "outputId": "d7670bc0-42e4-4c09-8a6a-5c018ded7d95"
   },
   "outputs": [
    {
     "data": {
      "text/plain": [
       "{'id': '141105_seni_vangogh',\n",
       " 'url': 'https://www.bbc.com/indonesia/majalah/2014/11/141105_seni_vangogh',\n",
       " 'title': 'Lukisan bunga Van Gogh terjual US$61,8 juta',\n",
       " 'summary': 'Sebuah mahakarya Vincent van Gogh, yang dilukis pada akhir kehidupannya, terjual di New York sebesar US$61,8 juta atau Rp752 miliar.',\n",
       " 'text': 'Still Life, Vase with Daisies, and Poppies dibuat beberapa bulan sebelum van Gogh meninggal. Still Life, Vase with Daisies, and Poppies melampaui perkiraan sebelumnya US$50 juta pada pelelangan di Sotheby. Lukisan Van Gogh dibuat di rumah dokter Prancisnya hanya beberapa bulan sebelum dirinya meninggal di tahun 1890. Karyanya ini adalah satu dari beberapa lukisannya yang terjual saat Van Gogh masih hidup. Rekor penjualan pelukis Belanda pada balai lelang adalah US$82,5 juta lewat Portrait of Dr Gachet. Lukisan tentang dokternya ini terjual pada tahun 1990. Pada pelelangan ini patung Alberto Giacometti dari tahun1951 terjual seharga lebih dari US$100 juta, di bawah rekor karya seniman Swiss itu senilai US$104,3 juta. Sementara pematung Amedeo Modigliani mencatat rekor baru lewat Tete patung kepala yang dibuat di tahun 1911-1912 dari batu kapur terjual lebih US$70 juta.'}"
      ]
     },
     "execution_count": 9,
     "metadata": {},
     "output_type": "execute_result"
    }
   ],
   "source": [
    "raw_datasets[\"test\"][0]"
   ]
  },
  {
   "cell_type": "markdown",
   "metadata": {
    "id": "WHUmphG3IrI3"
   },
   "source": [
    "To get a sense of what the data looks like, the following function will show some examples picked randomly in the dataset."
   ]
  },
  {
   "cell_type": "code",
   "execution_count": 23,
   "metadata": {
    "id": "i3j8APAoIrI3"
   },
   "outputs": [],
   "source": [
    "import datasets\n",
    "import random\n",
    "import pandas as pd\n",
    "from IPython.display import display, HTML\n",
    "\n",
    "\n",
    "def show_random_elements(dataset, num_examples=5):\n",
    "    assert num_examples <= len(\n",
    "        dataset\n",
    "    ), \"Can't pick more elements than there are in the dataset.\"\n",
    "    picks = []\n",
    "    for _ in range(num_examples):\n",
    "        pick = random.randint(0, len(dataset) - 1)\n",
    "        while pick in picks:\n",
    "            pick = random.randint(0, len(dataset) - 1)\n",
    "        picks.append(pick)\n",
    "\n",
    "    df = pd.DataFrame(dataset[picks])\n",
    "    df = df[['summary','text']]\n",
    "    df.dropna()\n",
    "    for column, typ in dataset.features.items():\n",
    "        if isinstance(typ, datasets.ClassLabel):\n",
    "            df[column] = df[column].transform(lambda i: typ.names[i])\n",
    "    display(HTML(df.to_html()))"
   ]
  },
  {
   "cell_type": "code",
   "execution_count": 24,
   "metadata": {
    "id": "SZy5tRB_IrI7",
    "outputId": "ba8f2124-e485-488f-8c0c-254f34f24f13"
   },
   "outputs": [
    {
     "data": {
      "text/html": [
       "<table border=\"1\" class=\"dataframe\">\n",
       "  <thead>\n",
       "    <tr style=\"text-align: right;\">\n",
       "      <th></th>\n",
       "      <th>summary</th>\n",
       "      <th>text</th>\n",
       "    </tr>\n",
       "  </thead>\n",
       "  <tbody>\n",
       "    <tr>\n",
       "      <th>0</th>\n",
       "      <td>Tingkat kepercayaan bisnis di Inggris meningkat meskipun pertumbuhan ekonomi cenderung melambat.</td>\n",
       "      <td>Membaiknya tingkat kepercayaan bisnis berdampak positif bagi perekonomian. Survei Business Confidence Monitor, yang dirilis oleh Institute of Chartered Accountants in England and Wales (ICAEW)menunjukan tingkat kepercayaan bisnis berada pada level tertinggi sejak kuartal ketiga 2010. Tingkat kepercayaan ini naik pada semua sekotor bisnis dan pada semua wilayah di Inggris. Laporan ini juga memprediksi pertumbuhan ekonomi yang lebih kuat pada kuartal kedua mendatang. Pejabat setempat menaksir ekonomi akan tumbuh 0,3% pada tiga bulan pertama tahun ini. ICAEW dan lembaga penasehat, Grant Thornton mengatakan peningkatan kepercayaan bisnis akan berdampak positif pada perkembangan ekonomi di masa depan. \"Ada perbaikan ekonomi yang bertahap dan pemulihan mulai berdiri pada pijakan yang lebih kuat,\" ujar Michael Izza, Chief Executive ICAEW. \"Kita tidak boleh lengah sekalipun. Masih ada kerapuhan dan peristiwa di luar Inggris dapat memukul perekonomian.\" Di sisi lain, survei juga menunjukan bahwa rencana pengembangan investasi bisnis masih lemah. Tingkat belanja konsumen juga masih tertekan disebabkan oleh penurunan pendapatan secara rill dalam satu tahun seiring kenaikan harga dan stagnannya kenaikan upah.</td>\n",
       "    </tr>\n",
       "    <tr>\n",
       "      <th>1</th>\n",
       "      <td>Sebuah patung perunggu berwujud seekor banteng — diyakini berusia setidaknya 2.500 tahun — ditemukan di Yunani setelah hujan lebat di dekat situs kuno Olympia.</td>\n",
       "      <td>Pengujian awal menunjukkan bahwa patung banteng, yang ditemukan bulan lalu, diperkirakan berusia setidaknya 2.500 tahun. Adanya tanda pembakaran pada patung menunjukkan bahwa benda itu kemungkinan salah satu dari ribuan persembahan untuk dewa Yunani, Zeus. Benda berukuran kecil dan relatif utuh itu ditemukan oleh para arkeolog di dekat sebuah kuil, ungkap Kementerian Kebudayaan Yunani. Baca juga: Seorang arkeolog melihat salah satu tanduk banteng mencuat dari lumpur setelah hujan lebat, tambahnya. Benda tersebut segera dipindahkan ke laboratorium untuk diperiksa. Adanya tanda pembakaran pada patung menunjukkan bahwa benda itu kemungkinan salah satu dari ribuan persembahan untuk dewa Yunani, Zeus. Pengujian awal menunjukkan bahwa patung banteng, yang ditemukan bulan lalu, berasal dari periode geometri — sekitar 1050 Sebelum Masehi (SM) hingga 700 SM — seni Yunani, ujar Kementerian Kebudayaan dalam sebuah pernyataan, Jumat. Hewan seperti banteng dan kuda diyakini telah disembah selama periode itu karena keberadaannya dianggap penting bagi kelangsungan hidup manusia. Seperti patung hewan dan manusia lainnya, patung banteng yang ditemukan di dekat kuil Zeus kemungkinan besar telah dipersembahkan oleh para penganutnya selama upacara pengorbanan. Hal ini yang menjelaskan kenapa patung banteng berukuran kecil itu ada bekas pembakaran, tambah kementerian itu. Situs Olympia di Yunani adalah tempat kelahiran pertandingan Olimpiade kuno. Anda mungkin juga tertarik: Para arkeolog sedang membuka peti berusia mumi yang diperkirakan usianya melebihi 2.500 tahun.</td>\n",
       "    </tr>\n",
       "    <tr>\n",
       "      <th>2</th>\n",
       "      <td>Pemimpin sementara Libia, Mohammed Magarief, bertekad membubarkan semua kelompok milisi ilegal, menyusul tewasnya duta besar Amerika Serikat untuk Libia bulan ini.</td>\n",
       "      <td>Pembubaran kelompok milisi ilegal disampaikan Mohammed Magarief. Semua kamp dan milisi yang tidak berada di bawah kendali pemerintah, tidak akan diizinkan beroperasi dan tidak dibolehkan melakukan pemeriksaan dan berbagai pos, kata Magarief. \"Kami ingin semua kelompok milisi dan kamp militer yang tidak memiliki kaitan dengan pemerintah dibubarkan,\" kata Magarief, ketua parlemen yang juga menjabat sebagau kepala negara hingga pemilihan umum tahun depan. \"Kami mendesak semua orang untuk menghentikan aksi-aksi kekerasan dan tidak lagi membawa senjata, baik di jalan maupun di tempat-tempat umum lain,\" tambahnya. Salah satu kelompok milisi yang sangat kuat di Libia timur, Brigade Abu Slim, telah mengatakan akan membubarkan diri dan meninggalkan pangkalan mereka di kota Derna. Milisi lain, Ansar al-Sharia, yang membantah telah menyerang kantor konsulat AS, juga dilaporkan meninggalkan Derna. Tugas berat Ansar al-Sharia diminta meninggalkan kantor pusat mereka di Benghazi pada akhir pekan setelah pecah kerusuhan yang menewaskan 11 orang. Para anggota milisi ini meninggalkan Libia timur dan membawa persenjataan mereka. Sejumlah kalangan mengatakan berbagai kelompok milisi yang dibentuk selama gerakan perlawanan yang menumbangkan Kolonel Gaddafi tahun lalu dikenal sangat berpengaruh. Dubes AS untuk Libia, Christopher Stevens dan tiga warga AS lain, tewas ketika kantor konsulat AS di Benghazi diserang pada 11 September, yang bertepatan dengan aksi menentang video anti-Islam yang dibuat di AS. Kelompok milisi Islam membantah berada di balik serangan terhadap konsulat AS tersebut. Wartawan BBC di Tripoli, Rana Jawad, mengatakan kelompok milisi dan pengamanan swakarsa banyak diminta pemerintah membantu mengamankan berbagai kota di Libia. Membubarkan milisi, kata wartawan BBC, bukan pekerjaan mudah karena memegang secara penuh tanggung jawab keamanan di seluruh wilayah Libia tidak bisa dilakukan dalam waktu dekat ini. Link terkait Topik terkait</td>\n",
       "    </tr>\n",
       "    <tr>\n",
       "      <th>3</th>\n",
       "      <td>Penunjukan AM Hendropriyono sebagai penasehat tim transisi Joko Widodo dan Jusuf Kalla dikritik sebagai keputusan yang tidak mendukung penuntasan kasus hak asasi manusia berat di Indonesia.</td>\n",
       "      <td>Jokowi bersama Anies Baswedan yang ditunjuk menjadi salah satu anggota tim transisi. Hal tersebut diungkapkan Komisi untuk Orang Hilang dan Korban Tindak Kekerasan (Kontras) menjelang digelarnya aksi Kamisan di depan Istana Merdeka, Jakarta, Kamis (14/08). Namun anggota tim transisi mengatakan Jokowi memilih sendiri anggota timnya dan mengerti betul akan konsekuensi penunjukan itu. AM Hendropriyono dianggap bermasalah karena diduga bertanggung jawab terhadap insiden penyerbuan aparat ke Desa Talangsari III, Lampung pada 1989. Hasil penyelidikan Komisi Nasional Hak Asasi Manusia (Komnas HAM) menunjukan sebanyak 130 orang tewas dan ratusan lainnya mengalami penganiyayaan dalam peristiwa itu, walau hingga kini belum ada proses hukum yang menyatakan dirinya bersalah. Ketika menjabat sebagai kepala Badan Intelijen Negara (BIN), Hendropriyono juga disorot karena kasus pembunuhan aktivis HAM, Munir Said, pada 7 September 2004. Berharap cepat Kontras menilai terpilihnya Hendropriyono mencerminkan sikap Joko Widodo yang kurang serius terhadap persoalan HAM. Hendropriyono (kiri) bersama Joko Widodo di masa kampanye pemilihan presiden. \"Antara tidak serius, tidak mengerti, atau rentan diintervensi (berbagai kepentingan),\" kata Haris Azhar, koordinator Kontras. Padahal, Kontras berharap pemerintahan Joko Widodo bisa bertindak cepat untuk menghusut tuntas kasus HAM berat di awal pemerintahannya nanti. \"Tiga bulan pertama, (kami berharap) Jokowi sudah bisa membentuk komite kepresidenan untuk mempercepat proses hukum dan pemulihan atas kasus HAM berat di masa Orde Baru, kasus Talangsari harusnya masuk,\" lanjut Haris. Selain Hendropriyono, penunjukan mantan menteri perindustrian dan perdagangan di era Megawati, Rini M. Soemarno, juga disorot karena dianggap memiliki kepentingan partai. Tahu konsekuensi Tim transisi dibentuk Jokowi-JK untuk mempersiapkan pergantian kekuasaan pada Oktober nanti. Selain Rini dan Hendro, ada juga Akbar Faisal, Anies Baswedan, dan Andi Widjajanto, dan Hasto Kristiyanto. Rini Soemarno, yang dekat dengan Megawati, dianggap memiliki kepentingan. Akbar Faisal mengatakan semua anggota tim transisi ditunjuk langsung oleh Joko Widodo, yang mengerti betul konsekuensi di balik penunjukan masing-masing anggota. \"Menyangkut Hendropriyono, juga sama halnya dengan Luhut Panjaitan, adalah orang-orang yang selalu dimintai nasehat dalam proses kampanye, saya pikir tidak ada yang istimewa dari sini,\" katanya. \"(Tentang dugaan pelanggaran HAM) Beliau (Jokowi) tahu, sangat paham, termasuk dengan tudingan ke Rini Soemarno.\" \"Jadi singkatnya, ini murni penunjukan Pak Jokowi dan Pak Jokowi tahu apa yang dia lakukan.\" \"Sekarang kami bekerja, berikan kami kesempatan. Dan saya yakinkan pula, seluruh orientasi, energi, waktu yang kami lakukan di tim transisi hanya untuk memastikan pemerintahan berjalan baik, setidaknya setahun pertama,\" tegasnya.</td>\n",
       "    </tr>\n",
       "    <tr>\n",
       "      <th>4</th>\n",
       "      <td>Sejumlah kaum muda dari sebuah komunitas Muslim Inggris melangsungkan lagi kampanye untuk memerangi kesepian selama periode libur Natal dan tahun baru.</td>\n",
       "      <td>Kalangan muda Muslim Ahmadiyah Inggris berusaha membantu mereka yang dicekam kesepian saat Natal dan Tahun Baru. Asosiasi Pemuda Muslim Ahmadiyah (AMYA) Inggris menjalankan program ini setiap akhir tahun untuk membantu orang-orang yang rentan dan terisolasi. Selama periode libur Natal dan tahun baru yang lalu, organisasi yang memiliki 8.000 anggota itu memberi makan kepada lebih dari 1.600 orang, menyumbangkan 336kg bahan makanan dan menyumbangkan lebih dari 100 ribu pakaian. Dan tahun ini mereka ingin berbuat lebih banyak. Dalam proyek yang berlangsung di seantero Inggris itu, para anggota akan mengunjungi panti-panti penampungan dan perawatan, memberi makan para tunawisma dan menulis kartu Natal kepada ratusan orang. Usman Khan, dari kelompok tersebut mengatakan: \"Kampanye ini sangat penting bagi kami karena kami merasa bahwa hal ini menawarkan pelatihan dan pengembangan pribadi yang vital bagi anak-anak muda, untuk membantu membentuk mereka menjadi anggota masyarakat Inggris yang produktif, sadar, dan terintegrasi dengan baik. \"Hal ini juga memungkinkan kami untuk menunjukkan moto komunitas kami: Cinta untuk semua, kebencian tidak untuk seorang pun. Para relawan menjemput para manula dari panti jompo atau rumah mereka, untuk menikmati Makan Malam Natal di balai kota. Salah satu cabang kelompok di Huddersfield, Yorkshire, memberi layanan taksi gratis untuk orang tua di kota itu pada Hari Natal. Sekitar 100 relawan pergi ke rumah-rumah perawatan dan panti-panti penampungan, kemudian mengantar penduduk lanjut usia ke balai kota untuk menikmati makan malam Natal, sebelum membawa mereka pulang lagi dengan membawa makanan berlimpah. Tapi para relawan bukan hanya untuk antar jemput belaka. Mereka juga menyajikan makanan, meluangkan waktu untuk bersama orang-orang sepuh dan melakukan apa yang mereka bisa untuk memutus siklus kesepian para orang tua dan tunawisma. Adam Walker, wakil presiden asosiasi kaum muda Ahmadiyah itu mengatakan: \"Kami mulai melakukan hal ini sekitar tujuh tahun yang lalu dan kami kemudian menyukainya.\" \"Awalnya dianggap sebagai kewajiban yang harus dilakukan, namun anggota kami sangat larut bersama orang-orang itu, mereka membangun hubungan yang sejati dan kemudian mereka selalu menantikan acara ini,\" katanya. Nadeem Ahmed yang telah menjadi relawan selama tujuh tahun terakhir mengatakan bahwa semua itu didorong oleh imannya. \"Itulah yang diajarkan Islam kepada kami ... untuk pergi dan membantu tetangga kita,\" katanya. \"Kami melakukannya dengan biaya sendiri, dengan uang dari kantong sendiri, untuk memberi senyum di wajah mereka. \"Bila Anda melihat senyum itu, Anda tahu bahwa Anda telah melakukannya dengan benar.\" Dan setelah seminggu perencanaan, Nadeem sangat bersemangat untuk melakukannya lagi tahun ini. \"Saya tidak sabar menunggu Hari Natal,\" tambah Nadeem. \"Kami memang tidak merayakannya, tapi kami menghormati semua kepercayaan dan orang-orang ini adalah tetangga kami, sahabat kami, dan kami sangat menikmati waktu yang dilangusngkan bersama mereka.\" Terjun ke jalan setelah salat Setelah Natal usai, tidak ada istirahat bagi kelompok tersebut, karena mereka lamgsung mempersiapkan Hari Tahun Baru ketika 500 anggota di seluruh negeri akan berangkat setelah solat subuh dengan kantung-kantung sampah dan sapu untuk membersihkan jalanan setelah pesta dan perayaan malam hari sebelumnya. Orang-orang dari berbagai agama diundang untuk bergabung, dengan tujuan untuk mendekatkan masyarakat yang berbeda-beda. Usai salat Subuh, sekelompok orang turun ke jalan membrshkan jalanan yang berantakan setelah malam tahun baru. Farhad Ahmad mengatakan bahwa mereka berharap dapat memecahkan rekor mereka: 28 lokasi pemungutan sampah, menjadi lebih dari 30 lokasi di tahun ini. Dia berkata: \"Kami menjalani tahun baru sedikit berbeda, jadi kami bangun cukup segar di pagi hari dan tidak dalam keadaan mabuk!\" \"Kami memulai tahun baru dengan salat Subuh. Kami melakukan ini sebagai bagian dari iman karena Islam mengajarkan kepada kami bahwa kebersihan adalah sebagian dari iman dan merawat lingkungan.\" Tapi hal ini juga tentang menunjukkan kepada publik bagaimana \"kehidupan sehari-hari\" komunitas Muslim. \"Banyak orang memiliki persepsi tertentu tentang Islam yang didasarkan pada apa yang dilakukan beberapa individu,\" kata Ahmad. \"Kami ingin menunjukkan bahwa kami cinta damai dan ingin membantu masyarakat.\"</td>\n",
       "    </tr>\n",
       "  </tbody>\n",
       "</table>"
      ],
      "text/plain": [
       "<IPython.core.display.HTML object>"
      ]
     },
     "metadata": {},
     "output_type": "display_data"
    }
   ],
   "source": [
    "show_random_elements(raw_datasets[\"test\"])"
   ]
  },
  {
   "cell_type": "markdown",
   "metadata": {
    "id": "lnjDIuQ3IrI-"
   },
   "source": [
    "The metric is an instance of [`datasets.Metric`](https://huggingface.co/docs/datasets/package_reference/main_classes.html#datasets.Metric):"
   ]
  },
  {
   "cell_type": "code",
   "execution_count": 20,
   "metadata": {
    "id": "5o4rUteaIrI_",
    "outputId": "18038ef5-554c-45c5-e00a-133b02ec10f1"
   },
   "outputs": [
    {
     "data": {
      "text/plain": [
       "Metric(name: \"rouge\", features: {'predictions': Value(dtype='string', id='sequence'), 'references': Value(dtype='string', id='sequence')}, usage: \"\"\"\n",
       "Calculates average rouge scores for a list of hypotheses and references\n",
       "Args:\n",
       "    predictions: list of predictions to score. Each prediction\n",
       "        should be a string with tokens separated by spaces.\n",
       "    references: list of reference for each prediction. Each\n",
       "        reference should be a string with tokens separated by spaces.\n",
       "    rouge_types: A list of rouge types to calculate.\n",
       "        Valid names:\n",
       "        `\"rouge{n}\"` (e.g. `\"rouge1\"`, `\"rouge2\"`) where: {n} is the n-gram based scoring,\n",
       "        `\"rougeL\"`: Longest common subsequence based scoring.\n",
       "        `\"rougeLSum\"`: rougeLsum splits text using `\"\n",
       "\"`.\n",
       "        See details in https://github.com/huggingface/datasets/issues/617\n",
       "    use_stemmer: Bool indicating whether Porter stemmer should be used to strip word suffixes.\n",
       "    use_aggregator: Return aggregates if this is set to True\n",
       "Returns:\n",
       "    rouge1: rouge_1 (precision, recall, f1),\n",
       "    rouge2: rouge_2 (precision, recall, f1),\n",
       "    rougeL: rouge_l (precision, recall, f1),\n",
       "    rougeLsum: rouge_lsum (precision, recall, f1)\n",
       "Examples:\n",
       "\n",
       "    >>> rouge = datasets.load_metric('rouge')\n",
       "    >>> predictions = [\"hello there\", \"general kenobi\"]\n",
       "    >>> references = [\"hello there\", \"general kenobi\"]\n",
       "    >>> results = rouge.compute(predictions=predictions, references=references)\n",
       "    >>> print(list(results.keys()))\n",
       "    ['rouge1', 'rouge2', 'rougeL', 'rougeLsum']\n",
       "    >>> print(results[\"rouge1\"])\n",
       "    AggregateScore(low=Score(precision=1.0, recall=1.0, fmeasure=1.0), mid=Score(precision=1.0, recall=1.0, fmeasure=1.0), high=Score(precision=1.0, recall=1.0, fmeasure=1.0))\n",
       "    >>> print(results[\"rouge1\"].mid.fmeasure)\n",
       "    1.0\n",
       "\"\"\", stored examples: 0)"
      ]
     },
     "execution_count": 20,
     "metadata": {},
     "output_type": "execute_result"
    }
   ],
   "source": [
    "metric"
   ]
  },
  {
   "cell_type": "markdown",
   "metadata": {
    "id": "jAWdqcUBIrJC"
   },
   "source": [
    "You can call its `compute` method with your predictions and labels, which need to be list of decoded strings:"
   ]
  },
  {
   "cell_type": "code",
   "execution_count": 22,
   "metadata": {
    "id": "6XN1Rq0aIrJC",
    "outputId": "a4405435-a8a9-41ff-9f79-a13077b587c7"
   },
   "outputs": [
    {
     "data": {
      "text/plain": [
       "{'rouge1': AggregateScore(low=Score(precision=0.5, recall=0.5, fmeasure=0.5), mid=Score(precision=0.5, recall=0.5, fmeasure=0.5), high=Score(precision=0.5, recall=0.5, fmeasure=0.5)),\n",
       " 'rouge2': AggregateScore(low=Score(precision=0.0, recall=0.0, fmeasure=0.0), mid=Score(precision=0.0, recall=0.0, fmeasure=0.0), high=Score(precision=0.0, recall=0.0, fmeasure=0.0)),\n",
       " 'rougeL': AggregateScore(low=Score(precision=0.5, recall=0.5, fmeasure=0.5), mid=Score(precision=0.5, recall=0.5, fmeasure=0.5), high=Score(precision=0.5, recall=0.5, fmeasure=0.5)),\n",
       " 'rougeLsum': AggregateScore(low=Score(precision=0.5, recall=0.5, fmeasure=0.5), mid=Score(precision=0.5, recall=0.5, fmeasure=0.5), high=Score(precision=0.5, recall=0.5, fmeasure=0.5))}"
      ]
     },
     "execution_count": 22,
     "metadata": {},
     "output_type": "execute_result"
    }
   ],
   "source": [
    "fake_preds = [\"hello there\", \"general kenobi\"]\n",
    "fake_labels = [\"hello diana\", \"comand kenobi\"]\n",
    "metric.compute(predictions=fake_preds, references=fake_labels)"
   ]
  },
  {
   "cell_type": "markdown",
   "metadata": {
    "id": "n9qywopnIrJH"
   },
   "source": [
    "## Preprocessing the data"
   ]
  },
  {
   "cell_type": "markdown",
   "metadata": {
    "id": "YVx71GdAIrJH"
   },
   "source": [
    "Before we can feed those texts to our model, we need to preprocess them. This is done by a 🤗 Transformers `Tokenizer` which will (as the name indicates) tokenize the inputs (including converting the tokens to their corresponding IDs in the pretrained vocabulary) and put it in a format the model expects, as well as generate the other inputs that the model requires.\n",
    "\n",
    "To do all of this, we instantiate our tokenizer with the `AutoTokenizer.from_pretrained` method, which will ensure:\n",
    "\n",
    "- we get a tokenizer that corresponds to the model architecture we want to use,\n",
    "- we download the vocabulary used when pretraining this specific checkpoint.\n",
    "\n",
    "That vocabulary will be cached, so it's not downloaded again the next time we run the cell."
   ]
  },
  {
   "cell_type": "code",
   "execution_count": 6,
   "metadata": {
    "id": "eXNLu_-nIrJI"
   },
   "outputs": [],
   "source": [
    "from transformers import AutoTokenizer\n",
    "\n",
    "tokenizer = AutoTokenizer.from_pretrained(model_checkpoint)"
   ]
  },
  {
   "cell_type": "markdown",
   "metadata": {
    "id": "Vl6IidfdIrJK"
   },
   "source": [
    "By default, the call above will use one of the fast tokenizers (backed by Rust) from the 🤗 Tokenizers library."
   ]
  },
  {
   "cell_type": "markdown",
   "metadata": {
    "id": "rowT4iCLIrJK"
   },
   "source": [
    "You can directly call this tokenizer on one sentence or a pair of sentences:"
   ]
  },
  {
   "cell_type": "code",
   "execution_count": 33,
   "metadata": {
    "id": "a5hBlsrHIrJL",
    "outputId": "acdaa98a-a8cd-4a20-89b8-cc26437bbe90"
   },
   "outputs": [
    {
     "data": {
      "text/plain": [
       "{'input_ids': [8774, 6, 48, 19, 3, 9, 7142, 55, 1], 'attention_mask': [1, 1, 1, 1, 1, 1, 1, 1, 1]}"
      ]
     },
     "execution_count": 33,
     "metadata": {},
     "output_type": "execute_result"
    }
   ],
   "source": [
    "tokenizer(\"Hello, this is a sentence!\")"
   ]
  },
  {
   "cell_type": "markdown",
   "metadata": {
    "id": "qo_0B1M2IrJM"
   },
   "source": [
    "Depending on the model you selected, you will see different keys in the dictionary returned by the cell above. They don't matter much for what we're doing here (just know they are required by the model we will instantiate later), you can learn more about them in [this tutorial](https://huggingface.co/transformers/preprocessing.html) if you're interested.\n",
    "\n",
    "Instead of one sentence, we can pass along a list of sentences:"
   ]
  },
  {
   "cell_type": "code",
   "execution_count": 27,
   "metadata": {},
   "outputs": [
    {
     "data": {
      "text/plain": [
       "{'input_ids': [[8774, 6, 48, 19, 3, 9, 7142, 55, 1], [100, 19, 430, 7142, 5, 1]], 'attention_mask': [[1, 1, 1, 1, 1, 1, 1, 1, 1], [1, 1, 1, 1, 1, 1]]}"
      ]
     },
     "execution_count": 27,
     "metadata": {},
     "output_type": "execute_result"
    }
   ],
   "source": [
    "tokenizer([\"Hello, this is a sentence!\", \"This is another sentence.\"])"
   ]
  },
  {
   "cell_type": "markdown",
   "metadata": {},
   "source": [
    "To prepare the targets for our model, we need to tokenize them inside the `as_target_tokenizer` context manager. This will make sure the tokenizer uses the special tokens corresponding to the targets:"
   ]
  },
  {
   "cell_type": "code",
   "execution_count": 26,
   "metadata": {},
   "outputs": [
    {
     "name": "stdout",
     "output_type": "stream",
     "text": [
      "{'input_ids': [[8774, 6, 48, 19, 3, 9, 7142, 55, 1], [100, 19, 430, 7142, 5, 1]], 'attention_mask': [[1, 1, 1, 1, 1, 1, 1, 1, 1], [1, 1, 1, 1, 1, 1]]}\n"
     ]
    }
   ],
   "source": [
    "with tokenizer.as_target_tokenizer():\n",
    "    print(tokenizer([\"Hello, this is a sentence!\", \"This is another sentence.\"]))"
   ]
  },
  {
   "cell_type": "markdown",
   "metadata": {
    "id": "2C0hcmp9IrJQ"
   },
   "source": [
    "If you are using one of the five T5 checkpoints we have to prefix the inputs with \"summarize:\" (the model can also translate and it needs the prefix to know which task it has to perform)."
   ]
  },
  {
   "cell_type": "code",
   "execution_count": 36,
   "metadata": {},
   "outputs": [],
   "source": [
    "if model_checkpoint in [\"t5-small\", \"t5-base\", \"t5-large\", \"t5-3b\", \"t5-11b\"]:\n",
    "    prefix = \"summarize: \"\n",
    "else:\n",
    "    prefix = \"\""
   ]
  },
  {
   "cell_type": "markdown",
   "metadata": {
    "id": "2C0hcmp9IrJQ"
   },
   "source": [
    "We can then write the function that will preprocess our samples. We just feed them to the `tokenizer` with the argument `truncation=True`. This will ensure that an input longer that what the model selected can handle will be truncated to the maximum length accepted by the model. The padding will be dealt with later on (in a data collator) so we pad examples to the longest length in the batch and not the whole dataset."
   ]
  },
  {
   "cell_type": "code",
   "execution_count": 37,
   "metadata": {
    "id": "vc0BSBLIIrJQ"
   },
   "outputs": [],
   "source": [
    "max_input_length = 1024\n",
    "max_target_length = 128\n",
    "\n",
    "\n",
    "def preprocess_function(examples):\n",
    "    inputs = [prefix + doc for doc in examples[\"text\"]]\n",
    "    model_inputs = tokenizer(inputs, max_length=max_input_length, truncation=True)\n",
    "\n",
    "    # Setup the tokenizer for targets\n",
    "    with tokenizer.as_target_tokenizer():\n",
    "        labels = tokenizer(\n",
    "            examples[\"summary\"], max_length=max_target_length, truncation=True\n",
    "        )\n",
    "\n",
    "    model_inputs[\"labels\"] = labels[\"input_ids\"]\n",
    "    return model_inputs"
   ]
  },
  {
   "cell_type": "markdown",
   "metadata": {
    "id": "0lm8ozrJIrJR"
   },
   "source": [
    "This function works with one or several examples. In the case of several examples, the tokenizer will return a list of lists for each key:"
   ]
  },
  {
   "cell_type": "code",
   "execution_count": 40,
   "metadata": {
    "id": "-b70jh26IrJS",
    "outputId": "acd3a42d-985b-44ee-9daa-af5d944ce1d9"
   },
   "outputs": [
    {
     "data": {
      "text/plain": [
       "{'input_ids': [[21603, 10, 2043, 8478, 127, 3304, 146, 9, 42, 1468, 3, 449, 40, 1598, 9, 123, 157, 413, 142, 18956, 6, 3, 7, 1194, 2551, 108, 7, 6820, 9, 8411, 9, 107, 10823, 49, 4243, 15, 107, 3304, 4353, 4612, 142, 1625, 9, 107, 1076, 26, 9, 4665, 3304, 399, 7396, 17, 152, 5, 3953, 7922, 1191, 107, 3, 63, 1468, 1076, 8758, 1598, 34, 76, 10447, 17, 152, 16686, 1227, 783, 78, 7, 23, 138, 5, 925, 7922, 1191, 107, 3, 1152, 40, 1665, 3, 17, 1639, 5748, 76, 3, 2551, 107, 6, 1076, 9, 1939, 157, 7637, 17, 9, 1076, 122, 77, 1191, 157, 142, 115, 9, 22898, 158, 7, 49, 17, 9, 95, 9, 1720, 9, 5, 6619, 1639, 3, 354, 12204, 10, 5622, 440, 1227, 8044, 9, 3464, 4550, 63, 15, 12534, 7922, 1191, 107, 3, 4849, 15, 2780, 3, 17, 23, 115, 9, 18, 17, 23, 115, 9, 1076, 8758, 1598, 5, 3963, 12204, 7922, 1191, 107, 34, 76, 3, 1258, 2782, 3, 32, 109, 107, 1394, 76, 144, 76, 1227, 46, 2046, 9, 3856, 158, 7, 49, 17, 9, 3, 3768, 4550, 8765, 22498, 5, 3159, 142, 15076, 144, 140, 8478, 127, 3304, 7922, 1191, 107, 50, 77, 3, 63, 1468, 3, 354, 12204, 1076, 8758, 1598, 1227, 813, 2260, 23, 3, 1152, 4143, 9, 5, 2776, 1191, 107, 7102, 9, 7, 3, 935, 413, 9, 3304, 239, 9, 3, 5310, 157, 3, 4849, 35, 12594, 23, 3, 26, 138, 265, 95, 9, 1720, 9, 3, 1050, 9, 8758, 9, 152, 1227, 8642, 13877, 5, 8055, 23, 615, 122, 9, 8642, 13877, 6, 140, 5952, 2168, 7922, 1191, 107, 3, 9, 26, 138, 9, 107, 19753, 2637, 5, 493, 1152, 9750, 3, 2729, 173, 1227, 8642, 13877, 3, 354, 12204, 140, 5952, 2168, 7922, 1191, 107, 73, 17, 1598, 3, 1050, 883, 40, 76, 152, 95, 9, 1720, 9, 5, 1], [21603, 10, 749, 63, 15, 157, 283, 5934, 1923, 12594, 348, 18, 312, 19272, 12455, 302, 3, 324, 122, 9, 107, 3, 26, 10109, 1191, 3304, 6, 3, 13363, 202, 73, 17, 1598, 3, 5543, 23, 26, 127, 4485, 450, 3, 18, 14851, 144, 3, 11346, 2780, 649, 23, 276, 8544, 5, 1276, 51, 3478, 8765, 152, 3, 5319, 7, 9, 2002, 9, 410, 35, 15774, 3304, 142, 7893, 9, 23, 3, 76, 22498, 10351, 1639, 158, 935, 77, 17, 9, 2618, 1266, 1583, 29, 446, 12948, 2142, 26, 32, 26, 32, 177, 2565, 3, 7, 9, 7, 9, 2002, 204, 2128, 813, 63, 15, 157, 3811, 4102, 9, 3, 17, 9, 107, 202, 1360, 1076, 6757, 1725, 3, 13363, 202, 356, 9, 107, 202, 142, 2370, 440, 3795, 9, 7, 3, 18603, 17, 76, 34, 76, 6, 968, 1227, 46, 2046, 6820, 9, 1227, 9022, 17, 649, 23, 836, 89, 2046, 749, 63, 15, 157, 22946, 7, 10571, 6318, 177, 2565, 491, 9, 7, 152, 158, 9369, 1191, 152, 361, 7, 23, 157, 29, 63, 9, 3, 17, 23, 26, 1639, 836, 4665, 15688, 83, 9, 23, 142, 2370, 440, 3, 2729, 1408, 138, 6289, 18, 8584, 5, 1276, 348, 122, 1258, 7, 152, 813, 63, 15, 157, 3, 4849, 15, 2780, 3, 26, 173, 16296, 3304, 142, 1625, 9, 107, 3, 9, 26, 6820, 9, 3, 15, 7480, 9, 7, 23, 480, 6158, 4629, 1227, 480, 1194, 15, 5288, 1793, 127, 2644, 1016, 2106, 26, 1468, 1915, 15, 4470, 30019, 29, 5, 2566, 17, 76, 9, 4485, 18773, 1639, 7, 152, 9, 480, 6158, 4629, 3129, 107, 63, 76, 412, 235, 51, 32, 1076, 5497, 9, 3304, 3, 1152, 7664, 291, 3304, 3, 15, 7480, 9, 7, 23, 813, 63, 15, 157, 3, 4849, 15, 2780, 3, 17, 23, 26, 1639, 836, 4665, 140, 904, 76, 107, 23, 3, 10648, 17, 4476, 5, 96, 567, 9, 107, 3, 10648, 17, 4476, 3, 63, 1468, 3650, 9, 3, 16864, 9, 23, 3, 9, 26, 138, 9, 107, 3, 76, 17, 9, 348, 63, 9, 3650, 9, 13983, 9, 813, 63, 15, 157, 34, 76, 1005, 9, 3, 26, 173, 16296, 3304, 15688, 83, 9, 23, 10447, 2666, 157, 7, 77, 63, 9, 7692, 53, 17871, 144, 142, 2370, 440, 3, 2729, 1408, 138, 6289, 3, 18, 7887, 2662, 26, 23, 813, 63, 15, 157, 3, 63, 1468, 3, 17, 1639, 1005, 9, 158, 2304, 1191, 152, 361, 7, 23, 157, 29, 63, 9, 142, 2370, 440, 3, 2729, 1408, 138, 6289, 3, 18, 1360, 3650, 9, 178, 83, 3304, 2637, 29, 63, 9, 3650, 9, 90, 8020, 146, 40, 76, 142, 7893, 9, 23, 276, 8544, 976, 528, 521, 7, 3129, 107, 63, 76, 5, 19294, 144, 36, 521, 7, 813, 63, 15, 157, 3, 63, 1468, 1227, 5768, 76, 291, 3304, 649, 23, 836, 89, 2046, 276, 8544, 16, 23, 140, 5952, 2168, 3, 29, 173, 9, 23, 4032, 9, 7, 23, 142, 346, 7, 291, 391, 102, 26755, 6467, 40, 23, 202, 5, 3129, 107, 63, 76, 1076, 15, 5556, 3304, 4550, 658, 2780, 152, 813, 63, 15, 157, 649, 23, 276, 8544, 34, 76, 8524, 3304, 3, 4031, 35, 9, 9358, 521, 107, 3, 1468, 1478, 152, 5, 96, 382, 23, 26, 1639, 6, 576, 115, 9, 275, 9, 3, 40, 23, 547, 331, 29, 63, 9, 3, 63, 9, 3, 1468, 1478, 152, 73, 17, 1598, 16, 89, 20484, 1598, 52, 450, 34, 76, 954, 2917, 1076, 53, 8682, 356, 23, 9, 102, 3, 17, 9, 107, 202, 29, 63, 9, 6, 2662, 26, 23, 3, 17, 1639, 3, 9, 26, 9, 7801, 425, 15159, 9, 491, 9, 7, 152, 3, 17670, 210, 9, 3, 4031, 35, 9, 3, 17, 23, 26, 1639, 3, 9, 26, 9, 3, 3768, 9, 142, 6191, 9, 11486, 265, 5, 96, 382, 13306, 95, 9, 63, 9, 73, 17, 1598, 3, 51, 22511, 565, 4665, 29, 63, 9, 3650, 9, 140, 6856, 144, 3304, 3, 7, 210, 12518, 3650, 9, 103, 52, 2444, 6, 649, 23, 3, 9, 5380, 3650, 9, 36, 12651, 76, 3, 29, 23, 144, 29, 63, 9, 5, 412, 1468, 3, 2965, 19174, 16, 23, 3650, 9, 4740, 9, 3304, 142, 7893, 9, 23, 4550, 7812, 2462, 44, 402, 1813, 2020, 2776, 102, 3563, 53, 73, 17, 1598, 813, 63, 15, 157, 3, 2304, 1191, 3, 7, 265, 9, 158, 935, 77, 17, 9, 107, 3, 7, 210, 12518, 480, 4176, 976, 528, 521, 7, 1227, 9, 5, 679, 2047, 51, 521, 107, 813, 63, 15, 157, 3, 63, 1468, 3, 11346, 2780, 649, 23, 276, 8544, 46, 2046, 9, 50, 77, 2209, 9491, 152, 262, 4470, 32, 51, 23, 13495, 302, 302, 41, 9914, 439, 61, 4039, 402, 1050, 6, 283, 5934, 1227, 31711, 3, 3768, 3, 354, 12204, 158, 51, 3478, 8765, 152, 2662, 1618, 3, 2304, 15, 17, 9, 3, 13306, 1227, 11064, 521, 24320, 12198, 9, 449, 9, 11471, 144, 152, 7637, 17, 9, 1928, 2551, 1227, 3, 4801, 402, 679, 115, 9, 4414, 5, 96, 439, 17815, 152, 480, 1194, 15, 5288, 1915, 16420, 425, 152, 3, 17, 23, 26, 1639, 1227, 2780, 76, 107, 3304, 142, 1304, 9, 3, 4031, 35, 9, 3, 9, 4502, 158, 5525, 102, 1468, 3, 2754, 23, 107, 836, 4665, 1227, 17, 4624, 425, 1227, 4483, 2551, 11565, 76, 3304, 3, 63, 1468, 752, 1639, 29, 63, 9, 3, 1152, 221, 8682, 152, 976, 3, 8682, 9, 3129, 107, 63, 76, 5, 2194, 19855, 23, 3, 8044, 5561, 140, 348, 17, 402, 813, 63, 15, 157, 5770, 13836, 7608, 41, 329, 5934, 61, 1227, 31711, 5, 180, 1194, 2551, 813, 63, 15, 157, 50, 77, 3, 63, 1468, 140, 6856, 144, 3304, 3, 1468, 1478, 152, 649, 23, 18936, 6, 3, 2754, 23, 107, 3, 3272, 302, 1076, 63, 400, 7, 9, 23, 3304, 3, 7, 63, 9, 1795, 5, 96, 329, 9, 7, 138, 9, 107, 3, 16789, 2947, 138, 6, 3, 1536, 1608, 9, 954, 76, 3, 26, 5561, 7, 23, 107, 4522, 1191, 348, 649, 23, 9734, 52, 14261, 49, 23, 8411, 9, 107, 1]], 'attention_mask': [[1, 1, 1, 1, 1, 1, 1, 1, 1, 1, 1, 1, 1, 1, 1, 1, 1, 1, 1, 1, 1, 1, 1, 1, 1, 1, 1, 1, 1, 1, 1, 1, 1, 1, 1, 1, 1, 1, 1, 1, 1, 1, 1, 1, 1, 1, 1, 1, 1, 1, 1, 1, 1, 1, 1, 1, 1, 1, 1, 1, 1, 1, 1, 1, 1, 1, 1, 1, 1, 1, 1, 1, 1, 1, 1, 1, 1, 1, 1, 1, 1, 1, 1, 1, 1, 1, 1, 1, 1, 1, 1, 1, 1, 1, 1, 1, 1, 1, 1, 1, 1, 1, 1, 1, 1, 1, 1, 1, 1, 1, 1, 1, 1, 1, 1, 1, 1, 1, 1, 1, 1, 1, 1, 1, 1, 1, 1, 1, 1, 1, 1, 1, 1, 1, 1, 1, 1, 1, 1, 1, 1, 1, 1, 1, 1, 1, 1, 1, 1, 1, 1, 1, 1, 1, 1, 1, 1, 1, 1, 1, 1, 1, 1, 1, 1, 1, 1, 1, 1, 1, 1, 1, 1, 1, 1, 1, 1, 1, 1, 1, 1, 1, 1, 1, 1, 1, 1, 1, 1, 1, 1, 1, 1, 1, 1, 1, 1, 1, 1, 1, 1, 1, 1, 1, 1, 1, 1, 1, 1, 1, 1, 1, 1, 1, 1, 1, 1, 1, 1, 1, 1, 1, 1, 1, 1, 1, 1, 1, 1, 1, 1, 1, 1, 1, 1, 1, 1, 1, 1, 1, 1, 1, 1, 1, 1, 1, 1, 1, 1, 1, 1, 1, 1, 1, 1, 1, 1, 1, 1, 1, 1, 1, 1, 1, 1, 1, 1, 1, 1, 1, 1, 1, 1, 1, 1, 1, 1, 1, 1, 1, 1, 1, 1, 1, 1, 1, 1, 1, 1, 1, 1, 1, 1, 1, 1, 1, 1, 1, 1, 1, 1, 1, 1, 1, 1, 1, 1, 1, 1, 1, 1, 1, 1, 1, 1, 1, 1], [1, 1, 1, 1, 1, 1, 1, 1, 1, 1, 1, 1, 1, 1, 1, 1, 1, 1, 1, 1, 1, 1, 1, 1, 1, 1, 1, 1, 1, 1, 1, 1, 1, 1, 1, 1, 1, 1, 1, 1, 1, 1, 1, 1, 1, 1, 1, 1, 1, 1, 1, 1, 1, 1, 1, 1, 1, 1, 1, 1, 1, 1, 1, 1, 1, 1, 1, 1, 1, 1, 1, 1, 1, 1, 1, 1, 1, 1, 1, 1, 1, 1, 1, 1, 1, 1, 1, 1, 1, 1, 1, 1, 1, 1, 1, 1, 1, 1, 1, 1, 1, 1, 1, 1, 1, 1, 1, 1, 1, 1, 1, 1, 1, 1, 1, 1, 1, 1, 1, 1, 1, 1, 1, 1, 1, 1, 1, 1, 1, 1, 1, 1, 1, 1, 1, 1, 1, 1, 1, 1, 1, 1, 1, 1, 1, 1, 1, 1, 1, 1, 1, 1, 1, 1, 1, 1, 1, 1, 1, 1, 1, 1, 1, 1, 1, 1, 1, 1, 1, 1, 1, 1, 1, 1, 1, 1, 1, 1, 1, 1, 1, 1, 1, 1, 1, 1, 1, 1, 1, 1, 1, 1, 1, 1, 1, 1, 1, 1, 1, 1, 1, 1, 1, 1, 1, 1, 1, 1, 1, 1, 1, 1, 1, 1, 1, 1, 1, 1, 1, 1, 1, 1, 1, 1, 1, 1, 1, 1, 1, 1, 1, 1, 1, 1, 1, 1, 1, 1, 1, 1, 1, 1, 1, 1, 1, 1, 1, 1, 1, 1, 1, 1, 1, 1, 1, 1, 1, 1, 1, 1, 1, 1, 1, 1, 1, 1, 1, 1, 1, 1, 1, 1, 1, 1, 1, 1, 1, 1, 1, 1, 1, 1, 1, 1, 1, 1, 1, 1, 1, 1, 1, 1, 1, 1, 1, 1, 1, 1, 1, 1, 1, 1, 1, 1, 1, 1, 1, 1, 1, 1, 1, 1, 1, 1, 1, 1, 1, 1, 1, 1, 1, 1, 1, 1, 1, 1, 1, 1, 1, 1, 1, 1, 1, 1, 1, 1, 1, 1, 1, 1, 1, 1, 1, 1, 1, 1, 1, 1, 1, 1, 1, 1, 1, 1, 1, 1, 1, 1, 1, 1, 1, 1, 1, 1, 1, 1, 1, 1, 1, 1, 1, 1, 1, 1, 1, 1, 1, 1, 1, 1, 1, 1, 1, 1, 1, 1, 1, 1, 1, 1, 1, 1, 1, 1, 1, 1, 1, 1, 1, 1, 1, 1, 1, 1, 1, 1, 1, 1, 1, 1, 1, 1, 1, 1, 1, 1, 1, 1, 1, 1, 1, 1, 1, 1, 1, 1, 1, 1, 1, 1, 1, 1, 1, 1, 1, 1, 1, 1, 1, 1, 1, 1, 1, 1, 1, 1, 1, 1, 1, 1, 1, 1, 1, 1, 1, 1, 1, 1, 1, 1, 1, 1, 1, 1, 1, 1, 1, 1, 1, 1, 1, 1, 1, 1, 1, 1, 1, 1, 1, 1, 1, 1, 1, 1, 1, 1, 1, 1, 1, 1, 1, 1, 1, 1, 1, 1, 1, 1, 1, 1, 1, 1, 1, 1, 1, 1, 1, 1, 1, 1, 1, 1, 1, 1, 1, 1, 1, 1, 1, 1, 1, 1, 1, 1, 1, 1, 1, 1, 1, 1, 1, 1, 1, 1, 1, 1, 1, 1, 1, 1, 1, 1, 1, 1, 1, 1, 1, 1, 1, 1, 1, 1, 1, 1, 1, 1, 1, 1, 1, 1, 1, 1, 1, 1, 1, 1, 1, 1, 1, 1, 1, 1, 1, 1, 1, 1, 1, 1, 1, 1, 1, 1, 1, 1, 1, 1, 1, 1, 1, 1, 1, 1, 1, 1, 1, 1, 1, 1, 1, 1, 1, 1, 1, 1, 1, 1, 1, 1, 1, 1, 1, 1, 1, 1, 1, 1, 1, 1, 1, 1, 1, 1, 1, 1, 1, 1, 1, 1, 1, 1, 1, 1, 1, 1, 1, 1, 1, 1, 1, 1, 1, 1, 1, 1, 1, 1, 1, 1, 1, 1, 1, 1, 1, 1, 1, 1, 1, 1, 1, 1, 1, 1, 1, 1, 1, 1, 1, 1, 1, 1, 1, 1, 1, 1, 1, 1, 1, 1, 1, 1, 1, 1, 1, 1, 1, 1, 1, 1, 1, 1, 1, 1, 1, 1, 1, 1, 1, 1, 1, 1, 1, 1, 1, 1, 1, 1, 1, 1, 1, 1, 1, 1, 1, 1, 1, 1, 1, 1, 1, 1, 1, 1, 1, 1, 1, 1, 1, 1, 1, 1, 1, 1, 1, 1, 1, 1, 1, 1, 1, 1, 1, 1, 1, 1, 1, 1, 1, 1, 1, 1, 1, 1, 1, 1, 1, 1, 1, 1, 1, 1, 1, 1, 1, 1, 1, 1, 1, 1, 1, 1, 1, 1, 1, 1, 1, 1, 1, 1, 1, 1, 1, 1, 1, 1, 1, 1, 1, 1, 1, 1, 1, 1, 1, 1, 1, 1, 1, 1, 1, 1, 1, 1, 1, 1, 1, 1, 1, 1, 1, 1, 1, 1, 1, 1, 1, 1, 1, 1, 1, 1, 1, 1, 1, 1, 1, 1, 1, 1, 1, 1, 1, 1, 1, 1, 1, 1, 1, 1, 1, 1, 1, 1, 1, 1, 1, 1, 1, 1, 1, 1, 1, 1, 1, 1, 1, 1, 1, 1, 1, 1, 1, 1, 1, 1, 1, 1, 1, 1, 1, 1, 1, 1, 1, 1, 1, 1, 1, 1, 1, 1, 1, 1, 1, 1, 1, 1, 1, 1, 1, 1, 1, 1, 1, 1, 1, 1, 1, 1, 1, 1, 1, 1, 1, 1, 1, 1, 1, 1, 1, 1, 1, 1, 1, 1, 1, 1, 1, 1, 1, 1, 1, 1, 1, 1, 1, 1, 1, 1, 1, 1, 1, 1, 1, 1, 1, 1, 1, 1, 1, 1, 1, 1, 1, 1, 1, 1, 1, 1, 1, 1, 1, 1, 1, 1, 1, 1, 1, 1, 1, 1, 1, 1, 1, 1, 1, 1, 1, 1, 1, 1, 1, 1, 1, 1, 1, 1, 1, 1, 1, 1, 1, 1, 1, 1, 1, 1, 1, 1, 1, 1, 1, 1, 1, 1, 1, 1, 1, 1, 1, 1, 1, 1, 1, 1, 1, 1, 1, 1, 1, 1, 1, 1, 1, 1, 1, 1, 1, 1, 1, 1, 1, 1, 1, 1]], 'labels': [[1610, 5543, 7922, 1191, 107, 1076, 14677, 1639, 1076, 8758, 1598, 3, 7, 9, 144, 813, 2260, 23, 3, 17, 9, 107, 202, 152, 3, 9, 8758, 9, 21554, 1227, 1793, 17551, 32, 6, 8642, 13877, 6, 142, 107, 53, 122, 9, 140, 51, 3007, 144, 158, 7, 49, 17, 9, 95, 9, 1720, 9, 3, 4437, 3810, 18, 4612, 3810, 5, 2821, 23, 26, 1639, 29, 63, 9, 1003, 42, 1468, 3, 449, 40, 1598, 9, 5, 1], [1266, 1583, 29, 2194, 19855, 23, 140, 4246, 302, 3304, 73, 17, 1598, 1076, 122, 9516, 302, 968, 813, 63, 15, 157, 649, 23, 836, 89, 2046, 749, 63, 15, 157, 1015, 122, 159, 10571, 6318, 41, 4176, 567, 201, 142, 1625, 9, 107, 3, 9, 26, 6820, 9, 3, 15, 7480, 9, 7, 23, 5837, 155, 15, 1915, 565, 4665, 152, 4511, 63, 18999, 152, 86, 89, 20484, 1598, 2905, 6783, 155, 9, 7, 41, 439, 6158, 4629, 61, 480, 1194, 15, 5288, 1793, 127, 2644, 1016, 2106, 26, 1468, 1915, 15, 4470, 30019, 29, 5, 18740, 202, 4550, 9022, 17, 152, 3, 4849, 15, 2780, 1028, 15, 2780, 3304, 8524, 3304, 3, 4031, 35, 9, 9358, 521, 107, 3, 1468, 1478, 152, 6, 90, 115, 1]]}"
      ]
     },
     "execution_count": 40,
     "metadata": {},
     "output_type": "execute_result"
    }
   ],
   "source": [
    "preprocess_function(raw_datasets[\"train\"][:2])"
   ]
  },
  {
   "cell_type": "markdown",
   "metadata": {
    "id": "zS-6iXTkIrJT"
   },
   "source": [
    "To apply this function on all the pairs of sentences in our dataset, we just use the `map` method of our `dataset` object we created earlier. This will apply the function on all the elements of all the splits in `dataset`, so our training, validation and testing data will be preprocessed in one single command."
   ]
  },
  {
   "cell_type": "code",
   "execution_count": 41,
   "metadata": {
    "id": "DDtsaJeVIrJT",
    "outputId": "aa4734bf-4ef5-4437-9948-2c16363da719"
   },
   "outputs": [
    {
     "data": {
      "application/vnd.jupyter.widget-view+json": {
       "model_id": "05dc149a700d4542976105d0c681b79a",
       "version_major": 2,
       "version_minor": 0
      },
      "text/plain": [
       "  0%|          | 0/39 [00:00<?, ?ba/s]"
      ]
     },
     "metadata": {},
     "output_type": "display_data"
    },
    {
     "data": {
      "application/vnd.jupyter.widget-view+json": {
       "model_id": "3f27abc150f54a6baa91a12203507543",
       "version_major": 2,
       "version_minor": 0
      },
      "text/plain": [
       "  0%|          | 0/5 [00:00<?, ?ba/s]"
      ]
     },
     "metadata": {},
     "output_type": "display_data"
    },
    {
     "data": {
      "application/vnd.jupyter.widget-view+json": {
       "model_id": "1318187637d142f180ee177eeee4695a",
       "version_major": 2,
       "version_minor": 0
      },
      "text/plain": [
       "  0%|          | 0/5 [00:00<?, ?ba/s]"
      ]
     },
     "metadata": {},
     "output_type": "display_data"
    }
   ],
   "source": [
    "tokenized_datasets = raw_datasets.map(preprocess_function, batched=True)"
   ]
  },
  {
   "cell_type": "markdown",
   "metadata": {
    "id": "voWiw8C7IrJV"
   },
   "source": [
    "Even better, the results are automatically cached by the 🤗 Datasets library to avoid spending time on this step the next time you run your notebook. The 🤗 Datasets library is normally smart enough to detect when the function you pass to map has changed (and thus requires to not use the cache data). For instance, it will properly detect if you change the task in the first cell and rerun the notebook. 🤗 Datasets warns you when it uses cached files, you can pass `load_from_cache_file=False` in the call to `map` to not use the cached files and force the preprocessing to be applied again.\n",
    "\n",
    "Note that we passed `batched=True` to encode the texts by batches together. This is to leverage the full benefit of the fast tokenizer we loaded earlier, which will use multi-threading to treat the texts in a batch concurrently."
   ]
  },
  {
   "cell_type": "code",
   "execution_count": 42,
   "metadata": {},
   "outputs": [],
   "source": [
    "# # SAFE TOKENIZED DATASETS AS FILE TO MAKE IT EASY TO LOAD\n",
    "\n",
    "# import pickle\n",
    "# dbfile = open('tokenized_datasets', 'ab')\n",
    "# pickle.dump(tokenized_datasets, dbfile)           \n",
    "# dbfile.close()"
   ]
  },
  {
   "cell_type": "code",
   "execution_count": 7,
   "metadata": {},
   "outputs": [],
   "source": [
    "# # LOAD PICKLE TOKENIZED DATASETS\n",
    "\n",
    "# import pickle\n",
    "# dbfile = open('tokenized_datasets', 'rb')     \n",
    "# tokenized_datasets = pickle.load(dbfile)"
   ]
  },
  {
   "cell_type": "markdown",
   "metadata": {
    "id": "545PP3o8IrJV"
   },
   "source": [
    "## Fine-tuning the model"
   ]
  },
  {
   "cell_type": "markdown",
   "metadata": {
    "id": "FBiW8UpKIrJW"
   },
   "source": [
    "Now that our data is ready, we can download the pretrained model and fine-tune it. Since our task is sequence-to-sequence (both the input and output are text sequences), we use the `AutoModelForSeq2SeqLM` class. Like with the tokenizer, the `from_pretrained` method will download and cache the model for us."
   ]
  },
  {
   "cell_type": "code",
   "execution_count": 8,
   "metadata": {
    "id": "TlqNaB8jIrJW",
    "outputId": "84916cf3-6e6c-47f3-d081-032ec30a4132"
   },
   "outputs": [
    {
     "name": "stderr",
     "output_type": "stream",
     "text": [
      "All model checkpoint layers were used when initializing TFT5ForConditionalGeneration.\n",
      "\n",
      "All the layers of TFT5ForConditionalGeneration were initialized from the model checkpoint at t5-small.\n",
      "If your task is similar to the task the model of the checkpoint was trained on, you can already use TFT5ForConditionalGeneration for predictions without further training.\n"
     ]
    }
   ],
   "source": [
    "from transformers import TFAutoModelForSeq2SeqLM, DataCollatorForSeq2Seq\n",
    "\n",
    "model = TFAutoModelForSeq2SeqLM.from_pretrained(model_checkpoint)"
   ]
  },
  {
   "cell_type": "markdown",
   "metadata": {
    "id": "CczA5lJlIrJX"
   },
   "source": [
    "Note that  we don't get a warning like in our classification example. This means we used all the weights of the pretrained model and there is no randomly initialized head in this case."
   ]
  },
  {
   "cell_type": "markdown",
   "metadata": {
    "id": "_N8urzhyIrJY"
   },
   "source": [
    "Next we set some parameters like the learning rate and the `batch_size`and customize the weight decay. \n",
    "\n",
    "The last two arguments are to setup everything so we can push the model to the [Hub](https://huggingface.co/models) at the end of training. Remove the two of them if you didn't follow the installation steps at the top of the notebook, otherwise you can change the value of push_to_hub_model_id to something you would prefer."
   ]
  },
  {
   "cell_type": "code",
   "execution_count": 9,
   "metadata": {
    "id": "Bliy8zgjIrJY"
   },
   "outputs": [],
   "source": [
    "batch_size = 8\n",
    "learning_rate = 2e-5\n",
    "weight_decay = 0.01\n",
    "num_train_epochs = 1\n",
    "\n",
    "# model_name = model_checkpoint.split(\"/\")[-1]\n",
    "# push_to_hub_model_id = f\"assami-{model_name}-finetuned-xsum\""
   ]
  },
  {
   "cell_type": "markdown",
   "metadata": {
    "id": "km3pGVdTIrJc"
   },
   "source": [
    "Then, we need a special kind of data collator, which will not only pad the inputs to the maximum length in the batch, but also the labels. Note that our data collators are multi-framework, so make sure you set `return_tensors='tf'` so you get `tf.Tensor` objects back and not something else!"
   ]
  },
  {
   "cell_type": "code",
   "execution_count": 10,
   "metadata": {},
   "outputs": [],
   "source": [
    "data_collator = DataCollatorForSeq2Seq(tokenizer, model=model, return_tensors=\"tf\")"
   ]
  },
  {
   "cell_type": "code",
   "execution_count": 11,
   "metadata": {},
   "outputs": [
    {
     "data": {
      "text/plain": [
       "Dataset({\n",
       "    features: ['id', 'url', 'title', 'summary', 'text', 'input_ids', 'attention_mask', 'labels'],\n",
       "    num_rows: 4780\n",
       "})"
      ]
     },
     "execution_count": 11,
     "metadata": {},
     "output_type": "execute_result"
    }
   ],
   "source": [
    "tokenized_datasets[\"validation\"]"
   ]
  },
  {
   "cell_type": "markdown",
   "metadata": {},
   "source": [
    "Now we convert our input datasets to TF datasets using this collator. There's a built-in method for this: `to_tf_dataset()`. Make sure to specify the collator we just created as our `collate_fn`!\n",
    "\n",
    "Computing the `ROUGE` metric can be slow because it requires the model to generate outputs token-by-token. To speed things up, we make a `generation_dataset` that contains only 200 examples from the validation dataset, and use this for `ROUGE` computations."
   ]
  },
  {
   "cell_type": "code",
   "execution_count": 12,
   "metadata": {},
   "outputs": [],
   "source": [
    "train_dataset = tokenized_datasets[\"test\"].to_tf_dataset(\n",
    "    batch_size=batch_size,\n",
    "    columns=[\"input_ids\", \"attention_mask\", \"labels\"],\n",
    "    shuffle=True,\n",
    "    collate_fn=data_collator,\n",
    ")\n",
    "validation_dataset = tokenized_datasets[\"validation\"].to_tf_dataset(\n",
    "    batch_size=8,\n",
    "    columns=[\"input_ids\", \"attention_mask\", \"labels\"],\n",
    "    shuffle=False,\n",
    "    collate_fn=data_collator,\n",
    ")\n",
    "generation_dataset = (\n",
    "    tokenized_datasets[\"validation\"]\n",
    "    .shuffle()\n",
    "    .select(list(range(200)))\n",
    "    .to_tf_dataset(\n",
    "        batch_size=8,\n",
    "        columns=[\"input_ids\", \"attention_mask\", \"labels\"],\n",
    "        shuffle=False,\n",
    "        collate_fn=data_collator,\n",
    "    )\n",
    ")"
   ]
  },
  {
   "cell_type": "markdown",
   "metadata": {},
   "source": [
    "Now we initialize our loss and optimizer and compile the model. Note that most Transformers models compute loss internally - we can train on this as our loss value simply by not specifying a loss when we `compile()`."
   ]
  },
  {
   "cell_type": "code",
   "execution_count": 15,
   "metadata": {},
   "outputs": [
    {
     "name": "stderr",
     "output_type": "stream",
     "text": [
      "No loss specified in compile() - the model's internal loss computation will be used as the loss. Don't panic - this is a common way to train TensorFlow models in Transformers! To disable this behaviour, please pass a loss argument, or explicitly pass `loss=None` if you do not want your model to compute a loss.\n"
     ]
    }
   ],
   "source": [
    "from transformers import AdamWeightDecay\n",
    "import tensorflow as tf\n",
    "\n",
    "optimizer = AdamWeightDecay(learning_rate=learning_rate, weight_decay_rate=weight_decay)\n",
    "model.compile(optimizer=optimizer)"
   ]
  },
  {
   "cell_type": "markdown",
   "metadata": {
    "id": "7sZOdRlRIrJd"
   },
   "source": [
    "Now we can train our model. We can also add a few optional callbacks here, which you can remove if they aren't useful to you. In no particular order, these are:\n",
    "- PushToHubCallback will sync up our model with the Hub - this allows us to resume training from other machines, share the model after training is finished, and even test the model's inference quality midway through training!\n",
    "- TensorBoard is a built-in Keras callback that logs TensorBoard metrics.\n",
    "- KerasMetricCallback is a callback for computing advanced metrics. There are a number of common metrics in NLP like ROUGE which are hard to fit into your compiled training loop because they depend on decoding predictions and labels back to strings with the tokenizer, and calling arbitrary Python functions to compute the metric. The KerasMetricCallback will wrap a metric function, outputting metrics as training progresses.\n",
    "\n",
    "If this is the first time you've seen `KerasMetricCallback`, it's worth explaining what exactly is going on here. The callback takes two main arguments - a `metric_fn` and an `eval_dataset`. It then iterates over the `eval_dataset` and collects the model's outputs for each sample, before passing the `list` of predictions and the associated `list` of labels to the user-defined `metric_fn`. If the `predict_with_generate` argument is `True`, then it will call `model.generate()` for each input sample instead of `model.predict()` - this is useful for metrics that expect generated text from the model, like `ROUGE`.\n",
    "\n",
    "This callback allows complex metrics to be computed each epoch that would not function as a standard Keras Metric. Metric values are printed each epoch, and can be used by other callbacks like `TensorBoard` or `EarlyStopping`."
   ]
  },
  {
   "cell_type": "code",
   "execution_count": 16,
   "metadata": {},
   "outputs": [],
   "source": [
    "import numpy as np\n",
    "import nltk\n",
    "\n",
    "\n",
    "def metric_fn(eval_predictions):\n",
    "    predictions, labels = eval_predictions\n",
    "    decoded_predictions = tokenizer.batch_decode(predictions, skip_special_tokens=True)\n",
    "    for label in labels:\n",
    "        label[label < 0] = tokenizer.pad_token_id  # Replace masked label tokens\n",
    "    decoded_labels = tokenizer.batch_decode(labels, skip_special_tokens=True)\n",
    "    # Rouge expects a newline after each sentence\n",
    "    decoded_predictions = [\n",
    "        \"\\n\".join(nltk.sent_tokenize(pred.strip())) for pred in decoded_predictions\n",
    "    ]\n",
    "    decoded_labels = [\n",
    "        \"\\n\".join(nltk.sent_tokenize(label.strip())) for label in decoded_labels\n",
    "    ]\n",
    "    result = metric.compute(\n",
    "        predictions=decoded_predictions, references=decoded_labels, use_stemmer=True\n",
    "    )\n",
    "    # Extract a few results\n",
    "    result = {key: value.mid.fmeasure * 100 for key, value in result.items()}\n",
    "    # Add mean generated length\n",
    "    prediction_lens = [\n",
    "        np.count_nonzero(pred != tokenizer.pad_token_id) for pred in predictions\n",
    "    ]\n",
    "    result[\"gen_len\"] = np.mean(prediction_lens)\n",
    "\n",
    "    return result"
   ]
  },
  {
   "cell_type": "code",
   "execution_count": null,
   "metadata": {
    "scrolled": false
   },
   "outputs": [
    {
     "name": "stderr",
     "output_type": "stream",
     "text": [
      "WARNING:root:No label_cols specified for KerasMetricCallback, assuming you want the 'labels' key.\n"
     ]
    }
   ],
   "source": [
    "# from transformers.keras_callbacks import PushToHubCallback, KerasMetricCallback\n",
    "# from tensorflow.keras.callbacks import TensorBoard\n",
    "from transformers.keras_callbacks import KerasMetricCallback\n",
    "\n",
    "# tensorboard_callback = TensorBoard(log_dir=\"./summarization_model_save/logs\")\n",
    "\n",
    "# push_to_hub_callback = PushToHubCallback(\n",
    "#     output_dir=\"./summarization_model_save\",\n",
    "#     tokenizer=tokenizer,\n",
    "#     hub_model_id=push_to_hub_model_id,\n",
    "# )\n",
    "\n",
    "metric_callback = KerasMetricCallback(\n",
    "    metric_fn, eval_dataset=generation_dataset, predict_with_generate=True\n",
    ")\n",
    "\n",
    "# callbacks = [metric_callback, tensorboard_callback, push_to_hub_callback]\n",
    "\n",
    "model.fit(\n",
    "    train_dataset, validation_data=validation_dataset, epochs=1, verbose=2, callbacks=[metric_callback]\n",
    ")"
   ]
  },
  {
   "cell_type": "markdown",
   "metadata": {},
   "source": [
    "If you used the callback above, you can now share this model with all your friends, family, favorite pets: they can all load it with the identifier `\"your-username/the-name-you-picked\"` so for instance:\n",
    "\n",
    "```python\n",
    "from transformers import TFAutoModelForSeq2SeqLM\n",
    "\n",
    "model = TFAutoModelForSeq2SeqLM.from_pretrained(\"your-username/my-awesome-model\")\n",
    "```"
   ]
  }
 ],
 "metadata": {
  "colab": {
   "name": "Summarization",
   "provenance": []
  },
  "kernelspec": {
   "display_name": "Python 3 (ipykernel)",
   "language": "python",
   "name": "python3"
  },
  "language_info": {
   "codemirror_mode": {
    "name": "ipython",
    "version": 3
   },
   "file_extension": ".py",
   "mimetype": "text/x-python",
   "name": "python",
   "nbconvert_exporter": "python",
   "pygments_lexer": "ipython3",
   "version": "3.10.4"
  }
 },
 "nbformat": 4,
 "nbformat_minor": 1
}
